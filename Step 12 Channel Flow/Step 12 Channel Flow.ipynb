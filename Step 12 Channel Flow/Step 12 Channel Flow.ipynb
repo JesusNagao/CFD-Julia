{
 "cells": [
  {
   "cell_type": "code",
   "execution_count": 1,
   "metadata": {},
   "outputs": [
    {
     "data": {
      "text/plain": [
       "run (generic function with 1 method)"
      ]
     },
     "metadata": {},
     "output_type": "display_data"
    }
   ],
   "source": [
    "using CUDA\n",
    "using GLMakie\n",
    "include(\"Operations.jl\")"
   ]
  },
  {
   "cell_type": "code",
   "execution_count": 2,
   "metadata": {},
   "outputs": [],
   "source": [
    "const nx = 41\n",
    "const ny = 41\n",
    "const nt = 10\n",
    "const nit = 51\n",
    "const c = 1\n",
    "const dx = 2 / (nx - 1)\n",
    "const dy = 2 / (ny - 1)\n",
    "\n",
    "CUDA.allowscalar(false)"
   ]
  },
  {
   "cell_type": "code",
   "execution_count": 3,
   "metadata": {},
   "outputs": [
    {
     "data": {
      "text/plain": [
       "41-element CuArray{Float64, 1, CUDA.Mem.DeviceBuffer}:\n",
       " 0.0\n",
       " 0.05\n",
       " 0.1\n",
       " 0.15\n",
       " 0.2\n",
       " 0.25\n",
       " 0.3\n",
       " 0.35\n",
       " 0.4\n",
       " 0.45\n",
       " ⋮\n",
       " 1.6\n",
       " 1.65\n",
       " 1.7\n",
       " 1.75\n",
       " 1.8\n",
       " 1.85\n",
       " 1.9\n",
       " 1.95\n",
       " 2.0"
      ]
     },
     "metadata": {},
     "output_type": "display_data"
    }
   ],
   "source": [
    "x = CuArray{Float64}([i for i in range(0.0, stop=2.0, step=dx)])\n",
    "y = CuArray{Float64}([i for i in range(0.0, stop=2.0, step=dy)])"
   ]
  },
  {
   "cell_type": "code",
   "execution_count": 4,
   "metadata": {},
   "outputs": [
    {
     "data": {
      "text/plain": [
       "0.01"
      ]
     },
     "metadata": {},
     "output_type": "display_data"
    }
   ],
   "source": [
    "const rho = 1\n",
    "const nu = 0.1\n",
    "const F = 1\n",
    "const dt = 0.01"
   ]
  },
  {
   "cell_type": "code",
   "execution_count": 5,
   "metadata": {},
   "outputs": [
    {
     "data": {
      "text/plain": [
       "41×41 CuArray{Float32, 2, CUDA.Mem.DeviceBuffer}:\n",
       " 0.0  0.0  0.0  0.0  0.0  0.0  0.0  0.0  …  0.0  0.0  0.0  0.0  0.0  0.0  0.0\n",
       " 0.0  0.0  0.0  0.0  0.0  0.0  0.0  0.0     0.0  0.0  0.0  0.0  0.0  0.0  0.0\n",
       " 0.0  0.0  0.0  0.0  0.0  0.0  0.0  0.0     0.0  0.0  0.0  0.0  0.0  0.0  0.0\n",
       " 0.0  0.0  0.0  0.0  0.0  0.0  0.0  0.0     0.0  0.0  0.0  0.0  0.0  0.0  0.0\n",
       " 0.0  0.0  0.0  0.0  0.0  0.0  0.0  0.0     0.0  0.0  0.0  0.0  0.0  0.0  0.0\n",
       " 0.0  0.0  0.0  0.0  0.0  0.0  0.0  0.0  …  0.0  0.0  0.0  0.0  0.0  0.0  0.0\n",
       " 0.0  0.0  0.0  0.0  0.0  0.0  0.0  0.0     0.0  0.0  0.0  0.0  0.0  0.0  0.0\n",
       " 0.0  0.0  0.0  0.0  0.0  0.0  0.0  0.0     0.0  0.0  0.0  0.0  0.0  0.0  0.0\n",
       " 0.0  0.0  0.0  0.0  0.0  0.0  0.0  0.0     0.0  0.0  0.0  0.0  0.0  0.0  0.0\n",
       " 0.0  0.0  0.0  0.0  0.0  0.0  0.0  0.0     0.0  0.0  0.0  0.0  0.0  0.0  0.0\n",
       " ⋮                        ⋮              ⋱       ⋮                        ⋮\n",
       " 0.0  0.0  0.0  0.0  0.0  0.0  0.0  0.0     0.0  0.0  0.0  0.0  0.0  0.0  0.0\n",
       " 0.0  0.0  0.0  0.0  0.0  0.0  0.0  0.0     0.0  0.0  0.0  0.0  0.0  0.0  0.0\n",
       " 0.0  0.0  0.0  0.0  0.0  0.0  0.0  0.0     0.0  0.0  0.0  0.0  0.0  0.0  0.0\n",
       " 0.0  0.0  0.0  0.0  0.0  0.0  0.0  0.0  …  0.0  0.0  0.0  0.0  0.0  0.0  0.0\n",
       " 0.0  0.0  0.0  0.0  0.0  0.0  0.0  0.0     0.0  0.0  0.0  0.0  0.0  0.0  0.0\n",
       " 0.0  0.0  0.0  0.0  0.0  0.0  0.0  0.0     0.0  0.0  0.0  0.0  0.0  0.0  0.0\n",
       " 0.0  0.0  0.0  0.0  0.0  0.0  0.0  0.0     0.0  0.0  0.0  0.0  0.0  0.0  0.0\n",
       " 0.0  0.0  0.0  0.0  0.0  0.0  0.0  0.0     0.0  0.0  0.0  0.0  0.0  0.0  0.0\n",
       " 0.0  0.0  0.0  0.0  0.0  0.0  0.0  0.0  …  0.0  0.0  0.0  0.0  0.0  0.0  0.0"
      ]
     },
     "metadata": {},
     "output_type": "display_data"
    }
   ],
   "source": [
    "u = CuArray{Float64}(undef, nx, ny)\n",
    "u = CUDA.zeros(nx, ny)\n",
    "v = CuArray{Float64}(undef, nx, ny)\n",
    "v = CUDA.zeros(nx, ny)\n",
    "p = CuArray{Float64}(undef, nx, ny)\n",
    "p = CUDA.zeros(nx, ny)\n",
    "b = CuArray{Float64}(undef, nx, ny)\n",
    "b = CUDA.zeros(nx, ny)\n",
    "un = CuArray{Float64}(undef, nx, ny)\n",
    "un = CUDA.zeros(nx, ny)\n",
    "vn = CuArray{Float64}(undef, nx, ny)\n",
    "vn = CUDA.zeros(nx, ny)\n",
    "pn = CuArray{Float64}(undef, nx, ny)\n",
    "pn = CUDA.zeros(nx, ny)"
   ]
  },
  {
   "cell_type": "code",
   "execution_count": 7,
   "metadata": {},
   "outputs": [
    {
     "ename": "GPUCompiler.KernelError",
     "evalue": "GPU compilation of kernel broadcast_kernel(CUDA.CuKernelContext, CuDeviceVector{Pair{Point{2, Float32}, Point{2, Float32}}, 1}, Base.Broadcast.Broadcasted{Nothing, Tuple{Base.OneTo{Int64}}, Makie.var\"#324#343\"{Bool, Symbol, Float64}, Tuple{Base.Broadcast.Extruded{CuDeviceVector{Point{2, Float32}, 1}, Tuple{Bool}, Tuple{Int64}}, Base.Broadcast.Extruded{CuDeviceVector{Vec{2, Float32}, 1}, Tuple{Bool}, Tuple{Int64}}}}, Int64) failed\nKernelError: passing and using non-bitstype argument\n\nArgument 4 to your kernel function is of type Base.Broadcast.Broadcasted{Nothing, Tuple{Base.OneTo{Int64}}, Makie.var\"#324#343\"{Bool, Symbol, Float64}, Tuple{Base.Broadcast.Extruded{CuDeviceVector{Point{2, Float32}, 1}, Tuple{Bool}, Tuple{Int64}}, Base.Broadcast.Extruded{CuDeviceVector{Vec{2, Float32}, 1}, Tuple{Bool}, Tuple{Int64}}}}, which is not isbits:\n  .f is of type Makie.var\"#324#343\"{Bool, Symbol, Float64} which is not isbits.\n    .align is of type Symbol which is not isbits.\n\n",
     "output_type": "error",
     "traceback": [
      "GPU compilation of kernel broadcast_kernel(CUDA.CuKernelContext, CuDeviceVector{Pair{Point{2, Float32}, Point{2, Float32}}, 1}, Base.Broadcast.Broadcasted{Nothing, Tuple{Base.OneTo{Int64}}, Makie.var\"#324#343\"{Bool, Symbol, Float64}, Tuple{Base.Broadcast.Extruded{CuDeviceVector{Point{2, Float32}, 1}, Tuple{Bool}, Tuple{Int64}}, Base.Broadcast.Extruded{CuDeviceVector{Vec{2, Float32}, 1}, Tuple{Bool}, Tuple{Int64}}}}, Int64) failed\n",
      "KernelError: passing and using non-bitstype argument\n",
      "\n",
      "Argument 4 to your kernel function is of type Base.Broadcast.Broadcasted{Nothing, Tuple{Base.OneTo{Int64}}, Makie.var\"#324#343\"{Bool, Symbol, Float64}, Tuple{Base.Broadcast.Extruded{CuDeviceVector{Point{2, Float32}, 1}, Tuple{Bool}, Tuple{Int64}}, Base.Broadcast.Extruded{CuDeviceVector{Vec{2, Float32}, 1}, Tuple{Bool}, Tuple{Int64}}}}, which is not isbits:\n",
      "  .f is of type Makie.var\"#324#343\"{Bool, Symbol, Float64} which is not isbits.\n",
      "    .align is of type Symbol which is not isbits.\n",
      "\n",
      "\n",
      "\n",
      "Stacktrace:\n",
      "  [1] check_invocation(job::GPUCompiler.CompilerJob)\n",
      "    @ GPUCompiler C:\\Users\\Jesus Leobardo Nagao\\.julia\\packages\\GPUCompiler\\9rK1I\\src\\validation.jl:66\n",
      "  [2] macro expansion\n",
      "    @ C:\\Users\\Jesus Leobardo Nagao\\.julia\\packages\\GPUCompiler\\9rK1I\\src\\driver.jl:332 [inlined]\n",
      "  [3] macro expansion\n",
      "    @ C:\\Users\\Jesus Leobardo Nagao\\.julia\\packages\\TimerOutputs\\SSeq1\\src\\TimerOutput.jl:252 [inlined]\n",
      "  [4] macro expansion\n",
      "    @ C:\\Users\\Jesus Leobardo Nagao\\.julia\\packages\\GPUCompiler\\9rK1I\\src\\driver.jl:331 [inlined]\n",
      "  [5] emit_asm(job::GPUCompiler.CompilerJob, ir::LLVM.Module; strip::Bool, validate::Bool, format::LLVM.API.LLVMCodeGenFileType)\n",
      "    @ GPUCompiler C:\\Users\\Jesus Leobardo Nagao\\.julia\\packages\\GPUCompiler\\9rK1I\\src\\utils.jl:62\n",
      "  [6] cufunction_compile(job::GPUCompiler.CompilerJob)\n",
      "    @ CUDA C:\\Users\\Jesus Leobardo Nagao\\.julia\\packages\\CUDA\\YpW0k\\src\\compiler\\execution.jl:326\n",
      "  [7] cached_compilation(cache::Dict{UInt64, Any}, job::GPUCompiler.CompilerJob, compiler::typeof(CUDA.cufunction_compile), linker::typeof(CUDA.cufunction_link))\n",
      "    @ GPUCompiler C:\\Users\\Jesus Leobardo Nagao\\.julia\\packages\\GPUCompiler\\9rK1I\\src\\cache.jl:89\n",
      "  [8] cufunction(f::GPUArrays.var\"#broadcast_kernel#17\", tt::Type{Tuple{CUDA.CuKernelContext, CuDeviceVector{Pair{Point{2, Float32}, Point{2, Float32}}, 1}, Base.Broadcast.Broadcasted{Nothing, Tuple{Base.OneTo{Int64}}, Makie.var\"#324#343\"{Bool, Symbol, Float64}, Tuple{Base.Broadcast.Extruded{CuDeviceVector{Point{2, Float32}, 1}, Tuple{Bool}, Tuple{Int64}}, Base.Broadcast.Extruded{CuDeviceVector{Vec{2, Float32}, 1}, Tuple{Bool}, Tuple{Int64}}}}, Int64}}; name::Nothing, kwargs::Base.Iterators.Pairs{Union{}, Union{}, Tuple{}, NamedTuple{(), Tuple{}}})\n",
      "    @ CUDA C:\\Users\\Jesus Leobardo Nagao\\.julia\\packages\\CUDA\\YpW0k\\src\\compiler\\execution.jl:297\n",
      "  [9] cufunction\n",
      "    @ C:\\Users\\Jesus Leobardo Nagao\\.julia\\packages\\CUDA\\YpW0k\\src\\compiler\\execution.jl:291 [inlined]\n",
      " [10] macro expansion\n",
      "    @ C:\\Users\\Jesus Leobardo Nagao\\.julia\\packages\\CUDA\\YpW0k\\src\\compiler\\execution.jl:102 [inlined]\n",
      " [11] #launch_heuristic#234\n",
      "    @ C:\\Users\\Jesus Leobardo Nagao\\.julia\\packages\\CUDA\\YpW0k\\src\\gpuarrays.jl:17 [inlined]\n",
      " [12] copyto!\n",
      "    @ C:\\Users\\Jesus Leobardo Nagao\\.julia\\packages\\GPUArrays\\3sW6s\\src\\host\\broadcast.jl:65 [inlined]\n",
      " [13] copyto!\n",
      "    @ .\\broadcast.jl:936 [inlined]\n",
      " [14] copy\n",
      "    @ C:\\Users\\Jesus Leobardo Nagao\\.julia\\packages\\GPUArrays\\3sW6s\\src\\host\\broadcast.jl:47 [inlined]\n",
      " [15] materialize(bc::Base.Broadcast.Broadcasted{CUDA.CuArrayStyle{1}, Nothing, Makie.var\"#324#343\"{Bool, Symbol, Float64}, Tuple{CuArray{Point{2, Float32}, 1, CUDA.Mem.DeviceBuffer}, CuArray{Vec{2, Float32}, 1, CUDA.Mem.DeviceBuffer}}})\n",
      "    @ Base.Broadcast .\\broadcast.jl:883\n",
      " [16] map(f::Function, x::CuArray{Point{2, Float32}, 1, CUDA.Mem.DeviceBuffer}, xs::CuArray{Vec{2, Float32}, 1, CUDA.Mem.DeviceBuffer})\n",
      "    @ GPUArrays C:\\Users\\Jesus Leobardo Nagao\\.julia\\packages\\GPUArrays\\3sW6s\\src\\host\\broadcast.jl:90\n",
      " [17] (::Makie.var\"#323#342\")(points::CuArray{Point{2, Float32}, 1, CUDA.Mem.DeviceBuffer}, dirs::CuArray{Vec{2, Float32}, 1, CUDA.Mem.DeviceBuffer}, n::Bool, align::Symbol, s::Float64)\n",
      "    @ Makie C:\\Users\\Jesus Leobardo Nagao\\.julia\\packages\\Makie\\gQOQF\\src\\basic_recipes\\arrows.jl:146\n",
      " [18] lift(::Function, ::Observable{CuArray{Point{2, Float32}, 1, CUDA.Mem.DeviceBuffer}}, ::Observable{CuArray{Vec{2, Float32}, 1, CUDA.Mem.DeviceBuffer}}, ::Vararg{Any, N} where N; kw::Base.Iterators.Pairs{Union{}, Union{}, Tuple{}, NamedTuple{(), Tuple{}}})\n",
      "    @ Makie C:\\Users\\Jesus Leobardo Nagao\\.julia\\packages\\Makie\\gQOQF\\src\\interaction\\nodes.jl:13\n",
      " [19] lift(::Function, ::Observable{CuArray{Point{2, Float32}, 1, CUDA.Mem.DeviceBuffer}}, ::Observable{CuArray{Vec{2, Float32}, 1, CUDA.Mem.DeviceBuffer}}, ::Observable{Any}, ::Vararg{Observable{Any}, N} where N)\n",
      "    @ Makie C:\\Users\\Jesus Leobardo Nagao\\.julia\\packages\\Makie\\gQOQF\\src\\interaction\\nodes.jl:10\n",
      " [20] plot!(arrowplot::Combined{Makie.arrows, Tuple{CuArray{Point{2, Float32}, 1, CUDA.Mem.DeviceBuffer}, CuArray{Vec{2, Float32}, 1, CUDA.Mem.DeviceBuffer}}})\n",
      "    @ Makie C:\\Users\\Jesus Leobardo Nagao\\.julia\\packages\\Makie\\gQOQF\\src\\basic_recipes\\arrows.jl:145\n",
      " [21] plot!(scene::Scene, P::Type{Combined{Makie.arrows, Tuple{CuArray{Float64, 1, CUDA.Mem.DeviceBuffer}, CuArray{Float64, 1, CUDA.Mem.DeviceBuffer}, CuArray{Float32, 2, CUDA.Mem.DeviceBuffer}, CuArray{Float32, 2, CUDA.Mem.DeviceBuffer}}}}, attributes::Attributes, input::Tuple{Observable{CuArray{Float64, 1, CUDA.Mem.DeviceBuffer}}, Observable{CuArray{Float64, 1, CUDA.Mem.DeviceBuffer}}, Observable{CuArray{Float32, 2, CUDA.Mem.DeviceBuffer}}, Observable{CuArray{Float32, 2, CUDA.Mem.DeviceBuffer}}}, args::Observable{Tuple{CuArray{Point{2, Float32}, 1, CUDA.Mem.DeviceBuffer}, CuArray{Vec{2, Float32}, 1, CUDA.Mem.DeviceBuffer}}})\n",
      "    @ Makie C:\\Users\\Jesus Leobardo Nagao\\.julia\\packages\\Makie\\gQOQF\\src\\interfaces.jl:428\n",
      " [22] plot!(::Scene, ::Type{Combined{Makie.arrows, ArgType} where ArgType}, ::Attributes, ::CuArray{Float64, 1, CUDA.Mem.DeviceBuffer}, ::Vararg{Any, N} where N; kw_attributes::Base.Iterators.Pairs{Union{}, Union{}, Tuple{}, NamedTuple{(), Tuple{}}})\n",
      "    @ Makie C:\\Users\\Jesus Leobardo Nagao\\.julia\\packages\\Makie\\gQOQF\\src\\interfaces.jl:339\n",
      " [23] plot!(::Scene, ::Type{Combined{Makie.arrows, ArgType} where ArgType}, ::Attributes, ::CuArray{Float64, 1, CUDA.Mem.DeviceBuffer}, ::CuArray{Float64, 1, CUDA.Mem.DeviceBuffer}, ::CuArray{Float32, 2, CUDA.Mem.DeviceBuffer}, ::Vararg{CuArray{Float32, 2, CUDA.Mem.DeviceBuffer}, N} where N)\n",
      "    @ Makie C:\\Users\\Jesus Leobardo Nagao\\.julia\\packages\\Makie\\gQOQF\\src\\interfaces.jl:308\n",
      " [24] plot!(::Axis, ::Type{Combined{Makie.arrows, ArgType} where ArgType}, ::Attributes, ::CuArray{Float64, 1, CUDA.Mem.DeviceBuffer}, ::Vararg{Any, N} where N; kw_attributes::Base.Iterators.Pairs{Union{}, Union{}, Tuple{}, NamedTuple{(), Tuple{}}})\n",
      "    @ Makie.MakieLayout C:\\Users\\Jesus Leobardo Nagao\\.julia\\packages\\Makie\\gQOQF\\src\\makielayout\\layoutables\\axis.jl:658\n",
      " [25] plot!(::Axis, ::Type{Combined{Makie.arrows, ArgType} where ArgType}, ::Attributes, ::CuArray{Float64, 1, CUDA.Mem.DeviceBuffer}, ::CuArray{Float64, 1, CUDA.Mem.DeviceBuffer}, ::CuArray{Float32, 2, CUDA.Mem.DeviceBuffer}, ::Vararg{CuArray{Float32, 2, CUDA.Mem.DeviceBuffer}, N} where N)\n",
      "    @ Makie.MakieLayout C:\\Users\\Jesus Leobardo Nagao\\.julia\\packages\\Makie\\gQOQF\\src\\makielayout\\layoutables\\axis.jl:653\n",
      " [26] plot!(::Type{Combined{Makie.arrows, ArgType} where ArgType}, ::Axis, ::CuArray{Float64, 1, CUDA.Mem.DeviceBuffer}, ::Vararg{Any, N} where N; kw_attributes::Base.Iterators.Pairs{Symbol, Any, Tuple{Symbol, Symbol, Symbol}, NamedTuple{(:lengthscale, :arrowcolor, :linecolor), Tuple{Float64, CuArray{Float32, 1, CUDA.Mem.DeviceBuffer}, CuArray{Float32, 1, CUDA.Mem.DeviceBuffer}}}})\n",
      "    @ Makie.MakieLayout C:\\Users\\Jesus Leobardo Nagao\\.julia\\packages\\Makie\\gQOQF\\src\\makielayout\\layoutables\\axis.jl:670\n",
      " [27] plot!(::Type{Combined{Makie.arrows, ArgType} where ArgType}, ::CuArray{Float64, 1, CUDA.Mem.DeviceBuffer}, ::Vararg{Any, N} where N; kw_attributes::Base.Iterators.Pairs{Symbol, Any, Tuple{Symbol, Symbol, Symbol}, NamedTuple{(:lengthscale, :arrowcolor, :linecolor), Tuple{Float64, CuArray{Float32, 1, CUDA.Mem.DeviceBuffer}, CuArray{Float32, 1, CUDA.Mem.DeviceBuffer}}}})\n",
      "    @ Makie C:\\Users\\Jesus Leobardo Nagao\\.julia\\packages\\Makie\\gQOQF\\src\\figureplotting.jl:47\n",
      " [28] arrows!(::CuArray{Float64, 1, CUDA.Mem.DeviceBuffer}, ::Vararg{Any, N} where N; attributes::Base.Iterators.Pairs{Symbol, Any, Tuple{Symbol, Symbol, Symbol}, NamedTuple{(:lengthscale, :arrowcolor, :linecolor), Tuple{Float64, CuArray{Float32, 1, CUDA.Mem.DeviceBuffer}, CuArray{Float32, 1, CUDA.Mem.DeviceBuffer}}}})\n",
      "    @ Makie C:\\Users\\Jesus Leobardo Nagao\\.julia\\packages\\MakieCore\\S8PkO\\src\\recipes.jl:35\n",
      " [29] (::var\"#11#12\")(i::Int64)\n",
      "    @ Main c:\\Users\\Jesus Leobardo Nagao\\OneDrive - Instituto Tecnologico y de Estudios Superiores de Monterrey\\Documents\\CFD-Julia\\Step 12 Channel Flow\\Step 12 Channel Flow.ipynb:89\n",
      " [30] Record(func::var\"#11#12\", scene::Figure, iter::UnitRange{Int64}; framerate::Int64)\n",
      "    @ Makie C:\\Users\\Jesus Leobardo Nagao\\.julia\\packages\\Makie\\gQOQF\\src\\display.jl:599\n",
      " [31] #record#939\n",
      "    @ C:\\Users\\Jesus Leobardo Nagao\\.julia\\packages\\Makie\\gQOQF\\src\\display.jl:591 [inlined]\n",
      " [32] record(func::Function, scene::Figure, path::String, iter::UnitRange{Int64})\n",
      "    @ Makie C:\\Users\\Jesus Leobardo Nagao\\.julia\\packages\\Makie\\gQOQF\\src\\display.jl:591\n",
      " [33] top-level scope\n",
      "    @ c:\\Users\\Jesus Leobardo Nagao\\OneDrive - Instituto Tecnologico y de Estudios Superiores de Monterrey\\Documents\\CFD-Julia\\Step 12 Channel Flow\\Step 12 Channel Flow.ipynb:4"
     ]
    }
   ],
   "source": [
    "f = Figure(resolution = (800, 800))\n",
    "Axis(f[1,1], backgroundcolor = \"black\")\n",
    "\n",
    "#GLMakie.record(f, \"Channel Flow GPU.gif\", 1:499) do i\n",
    "for i in range(1, stop=500)\n",
    "    un[:,:] = u[:,:]\n",
    "    vn[:,:] = v[:,:]\n",
    "\n",
    "    u[2:nx-1, 2:nx-1] = (un[2:nx-1, 2:nx-1] -\n",
    "                         un[2:nx-1, 2:nx-1] .* dt / dx .* \n",
    "                        (un[2:nx-1, 2:nx-1] - un[2:nx-1, 1:nx-2]) -\n",
    "                         vn[2:nx-1, 2:nx-1] .* dt / dy .* \n",
    "                        (un[2:nx-1, 2:nx-1] - un[1:nx-2, 2:nx-1]) -\n",
    "                         dt / (2 .* rho .* dx) .* \n",
    "                        (p[2:nx-1, 3:nx] - p[2:nx-1, 1:nx-2]) .+\n",
    "                         nu .* (dt / dx^2 .* \n",
    "                        (un[2:nx-1, 3:nx] - 2 .* un[2:nx-1, 2:nx-1] .+ un[2:nx-1, 1:nx-2]) .+\n",
    "                         dt / dy^2 .* \n",
    "                        (un[3:nx, 2:nx-1] - 2 .* un[2:nx-1, 2:nx-1] .+ un[1:nx-2, 2:nx-1])) .+ \n",
    "                         F .* dt)\n",
    "    \n",
    "        v[2:nx-1, 2:nx-1] = (vn[2:nx-1, 2:nx-1] -\n",
    "                         un[2:nx-1, 2:nx-1] .* dt / dx .* \n",
    "                        (vn[2:nx-1, 2:nx-1] - vn[2:nx-1, 1:nx-2]) -\n",
    "                         vn[2:nx-1, 2:nx-1] .* dt / dy .* \n",
    "                        (vn[2:nx-1, 2:nx-1] - vn[1:nx-2, 2:nx-1]) -\n",
    "                         dt / (2 .* rho .* dy) .* \n",
    "                        (p[3:nx, 2:nx-1] - p[1:nx-2, 2:nx-1]) .+\n",
    "                         nu .* (dt / dx^2 .*\n",
    "                        (vn[2:nx-1, 3:nx] - 2 .* vn[2:nx-1, 2:nx-1] .+ vn[2:nx-1, 1:nx-2]) .+\n",
    "                         dt / dy^2 .* \n",
    "                        (vn[3:nx, 2:nx-1] - 2 .* vn[2:nx-1, 2:nx-1] .+ vn[1:nx-2, 2:nx-1])))\n",
    "    \n",
    "        # Periodic BC u @ x = 2     \n",
    "        u[2:nx-1, nx-1] = (un[2:nx-1, nx-1] - un[2:nx-1, nx-1] .* dt / dx .* \n",
    "                      (un[2:nx-1, nx-1] - un[2:nx-1, nx-2]) -\n",
    "                       vn[2:nx-1, nx-1] .* dt / dy .* \n",
    "                      (un[2:nx-1, nx-1] - un[1:nx-2, nx-1]) -\n",
    "                       dt / (2 .* rho .* dx) .*\n",
    "                      (p[2:nx-1, 1] - p[2:nx-1, nx-2]) .+ \n",
    "                       nu .* (dt / dx^2 .* \n",
    "                      (un[2:nx-1, 1] - 2 .* un[2:nx-1, nx-1] .+ un[2:nx-1, nx-2]) .+\n",
    "                       dt / dy^2 .* \n",
    "                      (un[3:nx, nx-1] - 2 .* un[2:nx-1, nx-1] .+ un[1:nx-2, nx-1])) .+ F .* dt)\n",
    "    \n",
    "        # Periodic BC u @ x = 0\n",
    "        u[2:nx-1, 1] = (un[2:nx-1, 1] - un[2:nx-1, 1] .* dt / dx .*\n",
    "                     (un[2:nx-1, 1] - un[2:nx-1, nx-1]) -\n",
    "                      vn[2:nx-1, 1] .* dt / dy .* \n",
    "                     (un[2:nx-1, 1] - un[1:nx-2, 1]) - \n",
    "                      dt / (2 .* rho .* dx) .* \n",
    "                     (p[2:nx-1, 2] - p[2:nx-1, nx-1]) .+ \n",
    "                      nu .* (dt / dx^2 .* \n",
    "                     (un[2:nx-1, 2] - 2 .* un[2:nx-1, 1] .+ un[2:nx-1, nx-1]) .+\n",
    "                      dt / dy^2 .*\n",
    "                     (un[3:nx, 1] - 2 .* un[2:nx-1, 1] .+ un[1:nx-2, 1])) .+ F .* dt)\n",
    "    \n",
    "        # Periodic BC v @ x = 2\n",
    "        v[2:nx-1, nx-1] = (vn[2:nx-1, nx-1] - un[2:nx-1, nx-1] .* dt / dx .*\n",
    "                      (vn[2:nx-1, nx-1] - vn[2:nx-1, nx-2]) - \n",
    "                       vn[2:nx-1, nx-1] .* dt / dy .*\n",
    "                      (vn[2:nx-1, nx-1] - vn[1:nx-2, nx-1]) -\n",
    "                       dt / (2 .* rho .* dy) .* \n",
    "                      (p[3:nx, nx-1] - p[1:nx-2, nx-1]) .+\n",
    "                       nu .* (dt / dx^2 .*\n",
    "                      (vn[2:nx-1, 1] - 2 .* vn[2:nx-1, nx-1] .+ vn[2:nx-1, nx-2]) .+\n",
    "                       dt / dy^2 .*\n",
    "                      (vn[3:nx, nx-1] - 2 .* vn[2:nx-1, nx-1] .+ vn[1:nx-2, nx-1])))\n",
    "    \n",
    "        # Periodic BC v @ x = 0\n",
    "        v[2:nx-1, 1] = (vn[2:nx-1, 1] - un[2:nx-1, 1] .* dt / dx .*\n",
    "                     (vn[2:nx-1, 1] - vn[2:nx-1, nx-1]) -\n",
    "                      vn[2:nx-1, 1] .* dt / dy .*\n",
    "                     (vn[2:nx-1, 1] - vn[1:nx-2, 1]) -\n",
    "                      dt / (2 .* rho .* dy) .* \n",
    "                     (p[3:nx, 1] - p[1:nx-2, 1]) .+\n",
    "                      nu .* (dt / dx^2 .* \n",
    "                     (vn[2:nx-1, 2] - 2 .* vn[2:nx-1, 1] .+ vn[2:nx-1, nx-1]) .+\n",
    "                      dt / dy^2 .* \n",
    "                     (vn[3:nx, 1] - 2 .* vn[2:nx-1, 1] .+ vn[1:nx-2, 1])))\n",
    "    \n",
    "    \n",
    "        # Wall BC: u,v = 0 @ y = 0,2\n",
    "        u[1, :] .= 0.0\n",
    "        u[nx-1, :] .= 0.0\n",
    "        v[1, :] .= 0.0\n",
    "        v[nx-1, :] .= 0.0\n",
    "\n",
    "        strength = vec(sqrt.(u[2:nx-2, 2:nx-2] .^ 2 .+ v[2:nx-2, 2:nx-2] .^ 2))\n",
    "        arrows!(x[2:nx-2], y[2:nx-2], v[2:nx-2, 2:nx-2], u[2:nx-2, 2:nx-2], lengthscale = 0.01, arrowcolor = strength, linecolor = strength)\n",
    "end"
   ]
  }
 ],
 "metadata": {
  "kernelspec": {
   "display_name": "Julia 1.6.5",
   "language": "julia",
   "name": "julia-1.6"
  },
  "language_info": {
   "file_extension": ".jl",
   "mimetype": "application/julia",
   "name": "julia",
   "version": "1.6.5"
  },
  "orig_nbformat": 4,
  "vscode": {
   "interpreter": {
    "hash": "dfccc21f2fe7dd1099143d9dd28e63ba1efc820fc7c411de1b7b3f8006b1ac03"
   }
  }
 },
 "nbformat": 4,
 "nbformat_minor": 2
}
