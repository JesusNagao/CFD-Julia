{
 "cells": [
  {
   "cell_type": "code",
   "execution_count": 16,
   "metadata": {},
   "outputs": [],
   "source": [
    "using CUDA"
   ]
  },
  {
   "cell_type": "code",
   "execution_count": 17,
   "metadata": {},
   "outputs": [
    {
     "ename": "ErrorException",
     "evalue": "Could not find the CUDA driver library. Please make sure you have installed the NVIDIA driver for your GPU.\nIf you're sure it's installed, look for `libcuda.so` in your system and make sure it's discoverable by the linker.\nTypically, that involves an entry in '/etc/ld.so.conf', or setting LD_LIBRARY_PATH.",
     "output_type": "error",
     "traceback": [
      "Could not find the CUDA driver library. Please make sure you have installed the NVIDIA driver for your GPU.\n",
      "If you're sure it's installed, look for `libcuda.so` in your system and make sure it's discoverable by the linker.\n",
      "Typically, that involves an entry in '/etc/ld.so.conf', or setting LD_LIBRARY_PATH.\n",
      "\n",
      "Stacktrace:\n",
      "  [1] libcuda()\n",
      "    @ CUDA ~/.julia/packages/CUDA/fAEDi/lib/cudadrv/CUDAdrv.jl:153\n",
      "  [2] macro expansion\n",
      "    @ ~/.julia/packages/CUDA/fAEDi/lib/cudadrv/libcuda.jl:29 [inlined]\n",
      "  [3] macro expansion\n",
      "    @ ~/.julia/packages/CUDA/fAEDi/lib/cudadrv/error.jl:97 [inlined]\n",
      "  [4] cuDeviceGet\n",
      "    @ ~/.julia/packages/CUDA/fAEDi/lib/utils/call.jl:26 [inlined]\n",
      "  [5] CuDevice\n",
      "    @ ~/.julia/packages/CUDA/fAEDi/lib/cudadrv/devices.jl:17 [inlined]\n",
      "  [6] TaskLocalState\n",
      "    @ ~/.julia/packages/CUDA/fAEDi/lib/cudadrv/state.jl:50 [inlined]\n",
      "  [7] task_local_state!()\n",
      "    @ CUDA ~/.julia/packages/CUDA/fAEDi/lib/cudadrv/state.jl:73\n",
      "  [8] active_state\n",
      "    @ ~/.julia/packages/CUDA/fAEDi/lib/cudadrv/state.jl:106 [inlined]\n",
      "  [9] #_alloc#202\n",
      "    @ ~/.julia/packages/CUDA/fAEDi/src/pool.jl:309 [inlined]\n",
      " [10] #alloc#201\n",
      "    @ ~/.julia/packages/CUDA/fAEDi/src/pool.jl:299 [inlined]\n",
      " [11] alloc\n",
      "    @ ~/.julia/packages/CUDA/fAEDi/src/pool.jl:295 [inlined]\n",
      " [12] CuArray{Float64, 2, CUDA.Mem.DeviceBuffer}(#unused#::UndefInitializer, dims::Tuple{Int64, Int64})\n",
      "    @ CUDA ~/.julia/packages/CUDA/fAEDi/src/array.jl:42\n",
      " [13] CuArray\n",
      "    @ ~/.julia/packages/CUDA/fAEDi/src/array.jl:125 [inlined]\n",
      " [14] (CuArray{Float64, 2, B} where B)(::UndefInitializer, ::Int64, ::Vararg{Int64, N} where N)\n",
      "    @ CUDA ~/.julia/packages/CUDA/fAEDi/src/array.jl:132\n",
      " [15] top-level scope\n",
      "    @ ~/Documents/CFD-Julia/GPUProgramming.ipynb:1"
     ]
    }
   ],
   "source": [
    "x = CuArray{Float64,2}(undef, 2, 2)"
   ]
  },
  {
   "cell_type": "code",
   "execution_count": 18,
   "metadata": {},
   "outputs": [
    {
     "ename": "ErrorException",
     "evalue": "Could not find the CUDA driver library. Please make sure you have installed the NVIDIA driver for your GPU.\nIf you're sure it's installed, look for `libcuda.so` in your system and make sure it's discoverable by the linker.\nTypically, that involves an entry in '/etc/ld.so.conf', or setting LD_LIBRARY_PATH.",
     "output_type": "error",
     "traceback": [
      "Could not find the CUDA driver library. Please make sure you have installed the NVIDIA driver for your GPU.\n",
      "If you're sure it's installed, look for `libcuda.so` in your system and make sure it's discoverable by the linker.\n",
      "Typically, that involves an entry in '/etc/ld.so.conf', or setting LD_LIBRARY_PATH.\n",
      "\n",
      "Stacktrace:\n",
      "  [1] libcuda()\n",
      "    @ CUDA ~/.julia/packages/CUDA/fAEDi/lib/cudadrv/CUDAdrv.jl:153\n",
      "  [2] macro expansion\n",
      "    @ ~/.julia/packages/CUDA/fAEDi/lib/cudadrv/libcuda.jl:29 [inlined]\n",
      "  [3] macro expansion\n",
      "    @ ~/.julia/packages/CUDA/fAEDi/lib/cudadrv/error.jl:97 [inlined]\n",
      "  [4] cuDeviceGet\n",
      "    @ ~/.julia/packages/CUDA/fAEDi/lib/utils/call.jl:26 [inlined]\n",
      "  [5] CuDevice\n",
      "    @ ~/.julia/packages/CUDA/fAEDi/lib/cudadrv/devices.jl:17 [inlined]\n",
      "  [6] TaskLocalState\n",
      "    @ ~/.julia/packages/CUDA/fAEDi/lib/cudadrv/state.jl:50 [inlined]\n",
      "  [7] task_local_state!()\n",
      "    @ CUDA ~/.julia/packages/CUDA/fAEDi/lib/cudadrv/state.jl:73\n",
      "  [8] active_state\n",
      "    @ ~/.julia/packages/CUDA/fAEDi/lib/cudadrv/state.jl:106 [inlined]\n",
      "  [9] #_alloc#202\n",
      "    @ ~/.julia/packages/CUDA/fAEDi/src/pool.jl:309 [inlined]\n",
      " [10] #alloc#201\n",
      "    @ ~/.julia/packages/CUDA/fAEDi/src/pool.jl:299 [inlined]\n",
      " [11] alloc\n",
      "    @ ~/.julia/packages/CUDA/fAEDi/src/pool.jl:295 [inlined]\n",
      " [12] CuArray\n",
      "    @ ~/.julia/packages/CUDA/fAEDi/src/array.jl:42 [inlined]\n",
      " [13] CuArray\n",
      "    @ ~/.julia/packages/CUDA/fAEDi/src/array.jl:125 [inlined]\n",
      " [14] CuArray\n",
      "    @ ~/.julia/packages/CUDA/fAEDi/src/array.jl:136 [inlined]\n",
      " [15] (CuArray{Float32, N, B} where {N, B})(#unused#::UndefInitializer, dims::Int64)\n",
      "    @ CUDA ~/.julia/packages/CUDA/fAEDi/src/array.jl:138\n",
      " [16] ones(T::Type, dims::Int64)\n",
      "    @ CUDA ~/.julia/packages/CUDA/fAEDi/src/array.jl:599\n",
      " [17] ones(dims::Int64)\n",
      "    @ CUDA ~/.julia/packages/CUDA/fAEDi/src/array.jl:601\n",
      " [18] top-level scope\n",
      "    @ ~/Documents/CFD-Julia/GPUProgramming.ipynb:1"
     ]
    }
   ],
   "source": [
    "x = CUDA.ones(2)"
   ]
  },
  {
   "cell_type": "code",
   "execution_count": 19,
   "metadata": {},
   "outputs": [
    {
     "ename": "ErrorException",
     "evalue": "Could not find the CUDA driver library. Please make sure you have installed the NVIDIA driver for your GPU.\nIf you're sure it's installed, look for `libcuda.so` in your system and make sure it's discoverable by the linker.\nTypically, that involves an entry in '/etc/ld.so.conf', or setting LD_LIBRARY_PATH.",
     "output_type": "error",
     "traceback": [
      "Could not find the CUDA driver library. Please make sure you have installed the NVIDIA driver for your GPU.\n",
      "If you're sure it's installed, look for `libcuda.so` in your system and make sure it's discoverable by the linker.\n",
      "Typically, that involves an entry in '/etc/ld.so.conf', or setting LD_LIBRARY_PATH.\n",
      "\n",
      "Stacktrace:\n",
      "  [1] libcuda()\n",
      "    @ CUDA ~/.julia/packages/CUDA/fAEDi/lib/cudadrv/CUDAdrv.jl:153\n",
      "  [2] macro expansion\n",
      "    @ ~/.julia/packages/CUDA/fAEDi/lib/cudadrv/libcuda.jl:29 [inlined]\n",
      "  [3] macro expansion\n",
      "    @ ~/.julia/packages/CUDA/fAEDi/lib/cudadrv/error.jl:97 [inlined]\n",
      "  [4] cuDeviceGet\n",
      "    @ ~/.julia/packages/CUDA/fAEDi/lib/utils/call.jl:26 [inlined]\n",
      "  [5] CuDevice\n",
      "    @ ~/.julia/packages/CUDA/fAEDi/lib/cudadrv/devices.jl:17 [inlined]\n",
      "  [6] TaskLocalState\n",
      "    @ ~/.julia/packages/CUDA/fAEDi/lib/cudadrv/state.jl:50 [inlined]\n",
      "  [7] task_local_state!()\n",
      "    @ CUDA ~/.julia/packages/CUDA/fAEDi/lib/cudadrv/state.jl:73\n",
      "  [8] active_state\n",
      "    @ ~/.julia/packages/CUDA/fAEDi/lib/cudadrv/state.jl:106 [inlined]\n",
      "  [9] #_alloc#202\n",
      "    @ ~/.julia/packages/CUDA/fAEDi/src/pool.jl:309 [inlined]\n",
      " [10] #alloc#201\n",
      "    @ ~/.julia/packages/CUDA/fAEDi/src/pool.jl:299 [inlined]\n",
      " [11] alloc\n",
      "    @ ~/.julia/packages/CUDA/fAEDi/src/pool.jl:295 [inlined]\n",
      " [12] CuArray\n",
      "    @ ~/.julia/packages/CUDA/fAEDi/src/array.jl:42 [inlined]\n",
      " [13] CuArray\n",
      "    @ ~/.julia/packages/CUDA/fAEDi/src/array.jl:125 [inlined]\n",
      " [14] CuArray\n",
      "    @ ~/.julia/packages/CUDA/fAEDi/src/array.jl:136 [inlined]\n",
      " [15] (CuArray{Float64, N, B} where {N, B})(#unused#::UndefInitializer, dims::Int64)\n",
      "    @ CUDA ~/.julia/packages/CUDA/fAEDi/src/array.jl:138\n",
      " [16] zeros(T::Type, dims::Int64)\n",
      "    @ CUDA ~/.julia/packages/CUDA/fAEDi/src/array.jl:598\n",
      " [17] top-level scope\n",
      "    @ ~/Documents/CFD-Julia/GPUProgramming.ipynb:1"
     ]
    }
   ],
   "source": [
    "x = CUDA.zeros(Float64, 2)"
   ]
  },
  {
   "cell_type": "code",
   "execution_count": 20,
   "metadata": {},
   "outputs": [
    {
     "ename": "ErrorException",
     "evalue": "Could not find the CUDA driver library. Please make sure you have installed the NVIDIA driver for your GPU.\nIf you're sure it's installed, look for `libcuda.so` in your system and make sure it's discoverable by the linker.\nTypically, that involves an entry in '/etc/ld.so.conf', or setting LD_LIBRARY_PATH.",
     "output_type": "error",
     "traceback": [
      "Could not find the CUDA driver library. Please make sure you have installed the NVIDIA driver for your GPU.\n",
      "If you're sure it's installed, look for `libcuda.so` in your system and make sure it's discoverable by the linker.\n",
      "Typically, that involves an entry in '/etc/ld.so.conf', or setting LD_LIBRARY_PATH.\n",
      "\n",
      "Stacktrace:\n",
      "  [1] libcuda()\n",
      "    @ CUDA ~/.julia/packages/CUDA/fAEDi/lib/cudadrv/CUDAdrv.jl:153\n",
      "  [2] macro expansion\n",
      "    @ ~/.julia/packages/CUDA/fAEDi/lib/cudadrv/libcuda.jl:29 [inlined]\n",
      "  [3] macro expansion\n",
      "    @ ~/.julia/packages/CUDA/fAEDi/lib/cudadrv/error.jl:97 [inlined]\n",
      "  [4] cuDeviceGet\n",
      "    @ ~/.julia/packages/CUDA/fAEDi/lib/utils/call.jl:26 [inlined]\n",
      "  [5] CuDevice\n",
      "    @ ~/.julia/packages/CUDA/fAEDi/lib/cudadrv/devices.jl:17 [inlined]\n",
      "  [6] TaskLocalState\n",
      "    @ ~/.julia/packages/CUDA/fAEDi/lib/cudadrv/state.jl:50 [inlined]\n",
      "  [7] task_local_state!()\n",
      "    @ CUDA ~/.julia/packages/CUDA/fAEDi/lib/cudadrv/state.jl:73\n",
      "  [8] active_state\n",
      "    @ ~/.julia/packages/CUDA/fAEDi/lib/cudadrv/state.jl:106 [inlined]\n",
      "  [9] #_alloc#202\n",
      "    @ ~/.julia/packages/CUDA/fAEDi/src/pool.jl:309 [inlined]\n",
      " [10] #alloc#201\n",
      "    @ ~/.julia/packages/CUDA/fAEDi/src/pool.jl:299 [inlined]\n",
      " [11] alloc\n",
      "    @ ~/.julia/packages/CUDA/fAEDi/src/pool.jl:295 [inlined]\n",
      " [12] CuArray{Int64, 2, CUDA.Mem.DeviceBuffer}(#unused#::UndefInitializer, dims::Tuple{Int64, Int64})\n",
      "    @ CUDA ~/.julia/packages/CUDA/fAEDi/src/array.jl:42\n",
      " [13] CuArray\n",
      "    @ ~/.julia/packages/CUDA/fAEDi/src/array.jl:291 [inlined]\n",
      " [14] CuArray\n",
      "    @ ~/.julia/packages/CUDA/fAEDi/src/array.jl:296 [inlined]\n",
      " [15] CuArray(A::Matrix{Int64})\n",
      "    @ CUDA ~/.julia/packages/CUDA/fAEDi/src/array.jl:305\n",
      " [16] top-level scope\n",
      "    @ ~/Documents/CFD-Julia/GPUProgramming.ipynb:1"
     ]
    }
   ],
   "source": [
    "a = CuArray([1 2 3])"
   ]
  },
  {
   "cell_type": "code",
   "execution_count": 21,
   "metadata": {},
   "outputs": [
    {
     "ename": "UndefVarError",
     "evalue": "UndefVarError: a not defined",
     "output_type": "error",
     "traceback": [
      "UndefVarError: a not defined\n",
      "\n",
      "Stacktrace:\n",
      " [1] top-level scope\n",
      "   @ ~/Documents/CFD-Julia/GPUProgramming.ipynb:1"
     ]
    }
   ],
   "source": [
    "w = view(a,2:2)"
   ]
  }
 ],
 "metadata": {
  "kernelspec": {
   "display_name": "Julia 1.6.2",
   "language": "julia",
   "name": "julia-1.6"
  },
  "language_info": {
   "file_extension": ".jl",
   "mimetype": "application/julia",
   "name": "julia",
   "version": "1.6.2"
  },
  "orig_nbformat": 4
 },
 "nbformat": 4,
 "nbformat_minor": 2
}
